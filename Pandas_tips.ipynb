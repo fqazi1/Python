import pandas as pd
import numpy as np
import seaborn as sns
df=sns.load_dataset("titanic")
df.head(3)
